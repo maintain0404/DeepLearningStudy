{
  "nbformat": 4,
  "nbformat_minor": 0,
  "metadata": {
    "colab": {
      "name": "Chapter2.ipynb",
      "provenance": [],
      "collapsed_sections": [],
      "authorship_tag": "ABX9TyMnTQNBgtwXRHRMOS7plBqN",
      "include_colab_link": true
    },
    "kernelspec": {
      "name": "python3",
      "display_name": "Python 3"
    }
  },
  "cells": [
    {
      "cell_type": "markdown",
      "metadata": {
        "id": "view-in-github",
        "colab_type": "text"
      },
      "source": [
        "<a href=\"https://colab.research.google.com/github/maintain0404/DeepLearningStudy/blob/master/Chapter2.ipynb\" target=\"_parent\"><img src=\"https://colab.research.google.com/assets/colab-badge.svg\" alt=\"Open In Colab\"/></a>"
      ]
    },
    {
      "cell_type": "code",
      "metadata": {
        "id": "u1nixkjTqItK",
        "colab_type": "code",
        "colab": {}
      },
      "source": [
        "# 유방암 종양 정상/비정상 구분 데이터 샘플 가져오기\n",
        "from sklearn.datasets import load_breast_cancer\n",
        "import matplotlib.pyplot as plt\n",
        "import numpy as np\n",
        "cancer = load_breast_cancer()"
      ],
      "execution_count": 3,
      "outputs": []
    },
    {
      "cell_type": "code",
      "metadata": {
        "id": "TNbWaXAdqQDh",
        "colab_type": "code",
        "colab": {
          "base_uri": "https://localhost:8080/",
          "height": 34
        },
        "outputId": "3606ee0f-2c6d-471a-ca99-71ee2500ceab"
      },
      "source": [
        "# 입력 데이터 확인하기\n",
        "print(cancer.data.shape, cancer.target.shape)"
      ],
      "execution_count": 4,
      "outputs": [
        {
          "output_type": "stream",
          "text": [
            "(569, 30) (569,)\n"
          ],
          "name": "stdout"
        }
      ]
    },
    {
      "cell_type": "code",
      "metadata": {
        "id": "z50xcr_eqfpe",
        "colab_type": "code",
        "colab": {
          "base_uri": "https://localhost:8080/",
          "height": 279
        },
        "outputId": "c41310e1-e42a-4234-ebb5-7406b634b0e6"
      },
      "source": [
        "# 박스 플룻으로 특성의 사분위 값 확인하기\n",
        "plt.boxplot(cancer.data)\n",
        "plt.xlabel('feature')\n",
        "plt.ylabel('value')\n",
        "plt.show()"
      ],
      "execution_count": 5,
      "outputs": [
        {
          "output_type": "display_data",
          "data": {
            "image/png": "[encoded data removed]",
            "text/plain": [
              "<Figure size 432x288 with 1 Axes>"
            ]
          },
          "metadata": {
            "tags": [],
            "needs_background": "light"
          }
        }
      ]
    },
    {
      "cell_type": "code",
      "metadata": {
        "id": "yTatOiIWq68O",
        "colab_type": "code",
        "colab": {
          "base_uri": "https://localhost:8080/",
          "height": 51
        },
        "outputId": "b08d58f0-4b82-466e-e8eb-d1e5b69a8930"
      },
      "source": [
        "# 타깃 데이터 살펴보기\n",
        "# 눈에 띄는 특성\n",
        "print(cancer.feature_names[[3,13,23]])\n",
        "# 타깃 데이터 종류와 횟수 확인\n",
        "print(np.unique(cancer.target, return_counts = True))"
      ],
      "execution_count": 6,
      "outputs": [
        {
          "output_type": "stream",
          "text": [
            "['mean area' 'area error' 'worst area']\n",
            "(array([0, 1]), array([212, 357]))\n"
          ],
          "name": "stdout"
        }
      ]
    },
    {
      "cell_type": "code",
      "metadata": {
        "id": "QFSQRZ2nwArT",
        "colab_type": "code",
        "colab": {}
      },
      "source": [
        "# 훈련, 테스트 데이터 세트 나누기\n",
        "from sklearn.model_selection import train_test_split\n",
        "x_train, x_test, y_train, y_test = train_test_split(cancer.data, cancer.target, stratify = cancer.target, test_size = 0.2, random_state=42)\n",
        "# stratify = 결과 비율을 균일하게 만들기, 불균형한 경우 타깃을 지정해야 함\n",
        "# test_size = 테스트 세트의 비율, 기본 0.25\n",
        "# 난수 시드값"
      ],
      "execution_count": 7,
      "outputs": []
    },
    {
      "cell_type": "code",
      "metadata": {
        "id": "bzhBLdXMxKD2",
        "colab_type": "code",
        "colab": {
          "base_uri": "https://localhost:8080/",
          "height": 51
        },
        "outputId": "9118857f-34ce-4073-d97a-ffca8b766af4"
      },
      "source": [
        "# 확인하기\n",
        "print(x_train.shape, x_test.shape)\n",
        "print(np.unique(y_train, return_counts = True))"
      ],
      "execution_count": 8,
      "outputs": [
        {
          "output_type": "stream",
          "text": [
            "(455, 30) (114, 30)\n",
            "(array([0, 1]), array([170, 285]))\n"
          ],
          "name": "stdout"
        }
      ]
    },
    {
      "cell_type": "code",
      "metadata": {
        "id": "bk5qB2fFxdJD",
        "colab_type": "code",
        "colab": {}
      },
      "source": [
        "# 로지스틱 회귀 유닛 구현\n",
        "class LogisticUnit:\n",
        "  def __init__(self):\n",
        "    self.w = None\n",
        "    self.b = None\n",
        "    self.zmax = 0\n",
        "\n",
        "  def forpass(self, x):\n",
        "    z = np.sum(x * self.w) + self.b # np.sum은 행렬합을 ㅖ산함\n",
        "    return z\n",
        "  \n",
        "  def backprop(self, x, err):\n",
        "    w_grad = x * err\n",
        "    b_grad = 1 * err\n",
        "    return w_grad, b_grad\n",
        "\n",
        "  def activation(self, z):\n",
        "    # a = 1 / (1 + np.exp(-z, dtype=np.float64)) # np.exp는 자연상수 e의 지수함수\n",
        "    # return a\n",
        "\n",
        "    # exp에서 overflow가 발생하여 수정함\n",
        "    # z < e^max\n",
        "    # ln(z) < max\n",
        "    z = -z\n",
        "    if z > np.log(np.finfo(z.dtype).max):\n",
        "      return 0.0\n",
        "    else:\n",
        "      return 1 / (1 + np.exp(z))\n",
        "    \n",
        "  # 훈련 메소드\n",
        "  def fit(self, x, y, epochs=100):\n",
        "    # 초기화\n",
        "    self.w = np.ones(x.shape[1])\n",
        "    self.b = 0\n",
        "\n",
        "    for i in range(epochs):\n",
        "      for x_i, y_i in zip(x, y):\n",
        "        z = self.forpass(x_i) # 정방향 계산\n",
        "        a = self.activation(z) # 활성화 함수 계산\n",
        "        err = -(y_i - a) # 오차 계산\n",
        "        w_grad, b_grad = self.backprop(x_i, err) # 오차역전파\n",
        "        self.w -= w_grad\n",
        "        self.b -= b_grad\n",
        "  \n",
        "  # 유닛의 예측 메소드, 데이터가 2차원 배열로 여러 케이스가 들어올 때\n",
        "  def predict(self, x):\n",
        "    # 책 코드 원본\n",
        "    # z = [self.forpass(x_i) for x_i in x] # 선형 회귀\n",
        "    # a = self.activation(np.array(z))  # 활성화 함수\n",
        "    # return a\n",
        "\n",
        "    # 책 코드 수정\n",
        "    z = [self.forpass(x_i) for x_i in x]\n",
        "    a = list(map(lambda x: self.activation(x) > 0.5, z))  \n",
        "    return np.array(list(a)) # 계단 함수"
      ],
      "execution_count": 9,
      "outputs": []
    },
    {
      "cell_type": "code",
      "metadata": {
        "id": "qOX-kBIY0CSZ",
        "colab_type": "code",
        "colab": {}
      },
      "source": [
        "# 훈련\n",
        "unit = LogisticUnit()\n",
        "unit.fit(x_train, y_train)"
      ],
      "execution_count": 10,
      "outputs": []
    },
    {
      "cell_type": "code",
      "metadata": {
        "id": "5iSTIHrP0MmX",
        "colab_type": "code",
        "colab": {
          "base_uri": "https://localhost:8080/",
          "height": 34
        },
        "outputId": "39de0dcc-1b96-443a-d17f-acdf05f034b7"
      },
      "source": [
        "# 훈련 정확도 평가\n",
        "unit.predict(x_test)\n",
        "np.mean(unit.predict(x_test) == y_test)"
      ],
      "execution_count": 11,
      "outputs": [
        {
          "output_type": "execute_result",
          "data": {
            "text/plain": [
              "0.8245614035087719"
            ]
          },
          "metadata": {
            "tags": []
          },
          "execution_count": 11
        }
      ]
    },
    {
      "cell_type": "code",
      "metadata": {
        "id": "mGSwiRl5FsYb",
        "colab_type": "code",
        "colab": {}
      },
      "source": [
        "# 단일층 신경망 구현하기\n",
        "class SingleLayer:\n",
        "  def __init__(self):\n",
        "    self.w = None\n",
        "    self.b = None\n",
        "    self.zmax = 0\n",
        "    self.losses = []\n",
        "\n",
        "  def forpass(self, x):\n",
        "    z = np.sum(x * self.w) + self.b # np.sum은 행렬합을 ㅖ산함\n",
        "    return z\n",
        "  \n",
        "  def backprop(self, x, err):\n",
        "    w_grad = x * err\n",
        "    b_grad = 1 * err\n",
        "    return w_grad, b_grad\n",
        "\n",
        "  def activation(self, z):\n",
        "    # a = 1 / (1 + np.exp(-z, dtype=np.float64)) # np.exp는 자연상수 e의 지수함수\n",
        "    # return a\n",
        "\n",
        "    # exp에서 overflow가 발생하여 수정함\n",
        "    # z < e^max\n",
        "    # ln(z) < max\n",
        "    z = -z\n",
        "    if z > np.log(np.finfo(z.dtype).max):\n",
        "      return 0.0\n",
        "    else:\n",
        "      return 1 / (1 + np.exp(z))\n",
        "    \n",
        "  # 훈련 메소드\n",
        "  def fit(self, x, y, epochs=100):\n",
        "    # 초기화\n",
        "    self.w = np.ones(x.shape[1])\n",
        "    self.b = 0\n",
        "\n",
        "    # 미니 배치 경사 하강법 적용\n",
        "    for i in range(epochs):\n",
        "      loss = 0\n",
        "      indexes = np.random.permutation(np.arange(len(x))) # 에포크마다 순서를 무작위로 섞음\n",
        "      for j in indexes:\n",
        "        z = self.forpass(x[j])\n",
        "        a = self.activation(z)\n",
        "        err = -(y[j] - a)\n",
        "        w_grad, b_grad = self.backprop(x[j], err)\n",
        "        self.w -= w_grad\n",
        "        self.b -= b_grad\n",
        "        a = np.clip(a, 1e-10, 1-1e-10)\n",
        "        loss += -(y[j] * np.log(a) + (1 - y[j]) * np.log(1-a)) # 손실을 누적시킴\n",
        "      self.losses.append(loss/len(y)) # 에포크 당 평균 손실을 저장\n",
        "  \n",
        "  # 유닛의 예측 메소드, 데이터가 2차원 배열로 여러 케이스가 들어올 때\n",
        "  def predict(self, x):\n",
        "    # z가 0보다 크면 시그모이드에선 0.5보다 크고, 아니라면 0.5보다 작음\n",
        "    # 훈련에서는 무한 범위를 좁히기 위해 필요하지만\n",
        "    # 예측에서는 굳이 시그모이드를 쓸 필요가 없음\n",
        "    z = [self.forpass(x_i) for x_i in x]\n",
        "    return np.array(z) > 0 # 계단 함수\n",
        "\n",
        "  def score(self, x, y):\n",
        "    return np.mean(self.predict(x) == y)"
      ],
      "execution_count": 22,
      "outputs": []
    },
    {
      "cell_type": "code",
      "metadata": {
        "id": "_OvEGCRfLgC2",
        "colab_type": "code",
        "colab": {
          "base_uri": "https://localhost:8080/",
          "height": 34
        },
        "outputId": "c3f9bc12-f068-4582-c47c-8fc731502582"
      },
      "source": [
        "# 훈련 및 예측률 보기\n",
        "layer = SingleLayer()\n",
        "layer.fit(x_train, y_train)\n",
        "layer.score(x_test, y_test)"
      ],
      "execution_count": 23,
      "outputs": [
        {
          "output_type": "execute_result",
          "data": {
            "text/plain": [
              "0.9210526315789473"
            ]
          },
          "metadata": {
            "tags": []
          },
          "execution_count": 23
        }
      ]
    },
    {
      "cell_type": "code",
      "metadata": {
        "id": "_UkLTYLxLkbf",
        "colab_type": "code",
        "colab": {
          "base_uri": "https://localhost:8080/",
          "height": 279
        },
        "outputId": "12baf4fd-9aa7-48cc-8171-b1fb2d811959"
      },
      "source": [
        "# 에포크당 평균 손실로 훈련 진행 확인하기\n",
        "plt.plot(layer.losses)\n",
        "plt.xlabel('epoch')\n",
        "plt.ylabel('loss')\n",
        "plt.show()"
      ],
      "execution_count": 24,
      "outputs": [
        {
          "output_type": "display_data",
          "data": {
            "image/png": "[encoded data removed]",
            "text/plain": [
              "<Figure size 432x288 with 1 Axes>"
            ]
          },
          "metadata": {
            "tags": [],
            "needs_background": "light"
          }
        }
      ]
    },
    {
      "cell_type": "code",
      "metadata": {
        "id": "v2pePBlJMhe_",
        "colab_type": "code",
        "colab": {}
      },
      "source": [
        "from sklearn.linear_model import SGDClassifier\n",
        "# 사이킷런 경사 하강법 클래스"
      ],
      "execution_count": 26,
      "outputs": []
    },
    {
      "cell_type": "code",
      "metadata": {
        "id": "8u6_WAKXOHqe",
        "colab_type": "code",
        "colab": {}
      },
      "source": [
        "sgd = SGDClassifier(loss ='log', max_iter=1000, tol=1e-3, random_state = 42)\n",
        "# tol만큼 손실이 일어나지 않으면 반복 중단"
      ],
      "execution_count": 37,
      "outputs": []
    },
    {
      "cell_type": "code",
      "metadata": {
        "id": "xfurQu_8Ott4",
        "colab_type": "code",
        "colab": {
          "base_uri": "https://localhost:8080/",
          "height": 34
        },
        "outputId": "4e72c157-6550-4b0a-b45c-ec4f9c6a5ceb"
      },
      "source": [
        "sgd.fit(x_train, y_train)\n",
        "sgd.score(x_test, y_test)"
      ],
      "execution_count": 38,
      "outputs": [
        {
          "output_type": "execute_result",
          "data": {
            "text/plain": [
              "0.8333333333333334"
            ]
          },
          "metadata": {
            "tags": []
          },
          "execution_count": 38
        }
      ]
    },
    {
      "cell_type": "code",
      "metadata": {
        "id": "gRU7se-mOyiz",
        "colab_type": "code",
        "colab": {
          "base_uri": "https://localhost:8080/",
          "height": 119
        },
        "outputId": "0e65f267-9c33-4d7a-cc03-7c4b8d369c2b"
      },
      "source": [
        "sgd.predict(x_test)"
      ],
      "execution_count": 36,
      "outputs": [
        {
          "output_type": "execute_result",
          "data": {
            "text/plain": [
              "array([0, 1, 0, 0, 0, 0, 1, 0, 0, 0, 1, 0, 1, 0, 0, 1, 0, 1, 0, 1, 0, 0,\n",
              "       1, 1, 0, 0, 0, 1, 1, 0, 1, 1, 1, 1, 0, 1, 1, 1, 0, 0, 1, 1, 1, 0,\n",
              "       0, 0, 1, 1, 1, 0, 1, 0, 1, 0, 1, 1, 1, 0, 0, 1, 1, 1, 1, 1, 0, 1,\n",
              "       0, 1, 0, 1, 1, 1, 1, 0, 0, 0, 1, 1, 1, 1, 0, 1, 0, 1, 0, 1, 1, 1,\n",
              "       0, 1, 1, 1, 0, 0, 0, 1, 0, 1, 0, 0, 0, 0, 1, 1, 0, 0, 1, 0, 1, 0,\n",
              "       1, 0, 1, 1])"
            ]
          },
          "metadata": {
            "tags": []
          },
          "execution_count": 36
        }
      ]
    },
    {
      "cell_type": "code",
      "metadata": {
        "id": "tlIdBB_ZPSc5",
        "colab_type": "code",
        "colab": {}
      },
      "source": [
        ""
      ],
      "execution_count": null,
      "outputs": []
    }
  ]
}